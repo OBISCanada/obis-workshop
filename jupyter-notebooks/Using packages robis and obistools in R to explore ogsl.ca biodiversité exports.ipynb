{
 "cells": [
  {
   "cell_type": "markdown",
   "metadata": {},
   "source": [
    "# Exploring OGSL.ca/bio/ data using `robis` and `obistools`\n",
    "\n",
    "Two packages maintained by the programmers at OBIS, `robis` allows users to access the contents of the OBIS database, and `obistools` provides some QA/QC checks for data held on your local machine."
   ]
  },
  {
   "cell_type": "code",
   "execution_count": null,
   "metadata": {},
   "outputs": [],
   "source": [
    "# obistools is a github-only install\n",
    "library(devtools)\n",
    "# QC helper tools\n",
    "devtools::install_github('iobis/obistools')\n",
    "# Access and visualization of OBIS-held data\n",
    "devtools::install_github('iobis/robis')"
   ]
  },
  {
   "cell_type": "code",
   "execution_count": null,
   "metadata": {},
   "outputs": [],
   "source": [
    "# Get your source file(s) from ogsl.ca/bio/ and put them into a data frame\n",
    "library(tidyverse)\n",
    "\n",
    "# You may want to use latin1 as the locale so that it handles accents correctly.\n",
    "data <- read_csv('data/data_20200119-1640_fd181d2d/export.csv', local = locale(encoding = \"latin1\"))"
   ]
  },
  {
   "cell_type": "code",
   "execution_count": null,
   "metadata": {},
   "outputs": [],
   "source": [
    "# Begin to explore it\n",
    "\n",
    "# print a summary of the dataframe\n",
    "data"
   ]
  },
  {
   "cell_type": "code",
   "execution_count": null,
   "metadata": {},
   "outputs": [],
   "source": [
    "# print the column names of the dataframe\n",
    "names(data)"
   ]
  },
  {
   "cell_type": "code",
   "execution_count": null,
   "metadata": {},
   "outputs": [],
   "source": [
    "# explore the contents of individual column names to help classification.\n",
    "\n",
    "unique(data$\"Institution propriétaire\")"
   ]
  },
  {
   "cell_type": "code",
   "execution_count": null,
   "metadata": {},
   "outputs": [],
   "source": [
    "# From exploring this data downloaded via ogsl.ca/bio, \n",
    "# The occurrence data from the portal appears to be completely DwC-mappable and ready for OBIS ingestion.\n",
    "# as Occurrence or Occurrence + MoF\n",
    "\n",
    "\"\"\"\n",
    " Date + Format             -> map timezone + format to create ISO-8601 as datecollected\n",
    " Emplacement                -> locality ? Basis of higherGeography? [Emplacement]\n",
    " Longitude / Latitude       -> decimalLongitude, decimalLatitude, footprintWKT, geodeticDatum\n",
    " Taxon                      -> vernacularName\n",
    " Nom Latin                  -> scientificName\n",
    " Nombre d'individus         -> individualCount\n",
    " Poids                      -> dynamicProperties{weightInGrams:[Poids].toGrams()} \n",
    "                                    and/or MeasurementOrFact entry w/ weight(s)\n",
    " Présence                   -> occurrenceStatus = present  /  absent\n",
    " Biomasse                   ->      if mass in percentage : organismQuantity: [Biomasse] w/ organismQuantityType %biomass\n",
    "                                    else if by total mass:  dynamicProperties{weightInGrams:[Biomasse]}          \n",
    "                                    else: MeasurementOrFact entry w/ individuals + weight(s)  \n",
    " \n",
    " Densité                    ->  != individualCount  , perhaps dynamicProperties{density:[Densité]}\n",
    " Couverture                 ->  ? \n",
    " \n",
    "\n",
    "\n",
    " Méthode d'échantillonnage  -> BasisOfRecord map{ Visuel, (Chalut, Trappe à anguilles + other fishing methods) -> HumanObservation, \n",
    "                                   ?? -> LivingSpecimen, \n",
    "                                   ?? -> MachineObservation }\n",
    " Provenance                 -> establishmentMeans map{ Exotique Envahissante -> invasive,\n",
    "                                                       Exotique Naturalisée  -> naturalized,\n",
    "                                                                             -> introduced,\n",
    "                                                                             -> managed,}\n",
    " Collection                  -> Title? DatasetName?\n",
    " Institution propriétaire    -> institutionCode\n",
    "\"\"\""
   ]
  },
  {
   "cell_type": "markdown",
   "metadata": {},
   "source": [
    "### Migrating Columns to OBIS"
   ]
  },
  {
   "cell_type": "code",
   "execution_count": null,
   "metadata": {},
   "outputs": [],
   "source": [
    "library(lubridate) # Semi-intelligent date-parsing function, timezone-aware. Could supply format manually\n",
    "\n",
    "            # Rename the columns that need straight renaming\n",
    "obis_df <- rename(data, vernacularName=Taxon, locality=Emplacement, \n",
    "                  decimalLatitude=Latitude, decimalLongitude=Longitude, \n",
    "                  individualCount='Nombre d\\'individus', scientificName='Nom Latin', \n",
    "                  Title=Collection, institutionCode='Institution propriétaire') %>%\n",
    "            # Mutate to create the columns that need calculation steps\n",
    "            mutate(eventDate = date(Date), basisOfRecord = 'HumanObservation', \n",
    "                   occurrenceStatus='present', \n",
    "                   minimumDepthInMeters=-150,     \n",
    "                   maximumDepthInMeters=0)  \n",
    "\n",
    "\n"
   ]
  },
  {
   "cell_type": "markdown",
   "metadata": {},
   "source": [
    "### Getting a Data Report "
   ]
  },
  {
   "cell_type": "code",
   "execution_count": null,
   "metadata": {},
   "outputs": [],
   "source": [
    "# Produce a report in html format evaluating your dataset's fitness for OBIS. \n",
    "obistools::report(obis_df)"
   ]
  },
  {
   "cell_type": "code",
   "execution_count": null,
   "metadata": {},
   "outputs": [],
   "source": [
    "# We don't have matching IDs for our scientificnames. We should go get them!\n",
    "# Match the taxa using the World Register of Marine Species\n",
    "matched_taxa <- obistools::match_taxa(obis_df$scientificName)"
   ]
  },
  {
   "cell_type": "code",
   "execution_count": null,
   "metadata": {},
   "outputs": [],
   "source": [
    "matched_taxa"
   ]
  },
  {
   "cell_type": "code",
   "execution_count": null,
   "metadata": {},
   "outputs": [],
   "source": [
    "# assign the matches back to the dataframe\n",
    "obis_df <- mutate(obis_df, scientificNameID = matched_taxa$scientificNameID)"
   ]
  },
  {
   "cell_type": "code",
   "execution_count": null,
   "metadata": {},
   "outputs": [],
   "source": [
    "# Check the report again.\n",
    "obistools::report(obis_df)"
   ]
  },
  {
   "cell_type": "markdown",
   "metadata": {},
   "source": [
    "### Spatial Checks\n",
    "\n",
    "Verify if any points aren't at positive elevation (i.e. are on land)."
   ]
  },
  {
   "cell_type": "code",
   "execution_count": null,
   "metadata": {},
   "outputs": [],
   "source": [
    "onland <- obistools::check_onland(obis_df)\n",
    "onland"
   ]
  },
  {
   "cell_type": "code",
   "execution_count": null,
   "metadata": {},
   "outputs": [],
   "source": [
    "# obistools::plot_map(onland, zoom=TRUE) # no points found to be on land, so nothing to plot!\n",
    "obistools::plot_map(obis_df, zoom = TRUE) # plot the whole dataset instead."
   ]
  },
  {
   "cell_type": "code",
   "execution_count": null,
   "metadata": {},
   "outputs": [],
   "source": [
    "depthreport <- obistools::check_depth(obis_df, report=TRUE)"
   ]
  },
  {
   "cell_type": "code",
   "execution_count": null,
   "metadata": {},
   "outputs": [],
   "source": [
    "depthreport"
   ]
  },
  {
   "cell_type": "markdown",
   "metadata": {},
   "source": [
    "### Check presence / contents of date fields"
   ]
  },
  {
   "cell_type": "code",
   "execution_count": null,
   "metadata": {},
   "outputs": [],
   "source": [
    "obistools::check_eventdate(obis_df)\n",
    "# obistools::check_eventdate(obis_df %>% select(-eventDate))"
   ]
  },
  {
   "cell_type": "code",
   "execution_count": null,
   "metadata": {},
   "outputs": [],
   "source": [
    "# What does it look like when there are malformed dates?\n",
    "data_badformats <- data.frame(\n",
    "  eventDate = c(\n",
    "    \"2016/01/02\",\n",
    "    \"2016-01-02 13h00\"),\n",
    "  stringsAsFactors = FALSE)\n",
    "\n",
    "obistools::check_eventdate(data_badformats)"
   ]
  },
  {
   "cell_type": "markdown",
   "metadata": {},
   "source": [
    "### Questions for our hands-on sessions:\n",
    "* What sort of metadata do we collect about each collection?\n",
    "* What is the format of the data as it's found in the ogsl.ca system? \n",
    "* Is there an even more direct conversion/mapping than this one?\n",
    "* Could some of your data providers benefit from access to this sort of instant feedback about their data?\n",
    "* Where do / could checks such as these occur in your biodiversity data ingestion pipeline?"
   ]
  },
  {
   "cell_type": "code",
   "execution_count": null,
   "metadata": {},
   "outputs": [],
   "source": []
  }
 ],
 "metadata": {
  "kernelspec": {
   "display_name": "R",
   "language": "R",
   "name": "ir"
  },
  "language_info": {
   "codemirror_mode": "r",
   "file_extension": ".r",
   "mimetype": "text/x-r-source",
   "name": "R",
   "pygments_lexer": "r",
   "version": "3.6.0"
  }
 },
 "nbformat": 4,
 "nbformat_minor": 2
}
