{
 "cells": [
  {
   "cell_type": "markdown",
   "metadata": {},
   "source": [
    "# Exploring OGSL.ca/bio/ data using `robis` and `obistools`\n",
    "\n",
    "Two packages maintained by the programmers at OBIS, `robis` allows users to access the contents of the OBIS database, and `obistools` provides some QA/QC checks for data held on your local machine."
   ]
  },
  {
   "cell_type": "code",
   "execution_count": null,
   "metadata": {},
   "outputs": [],
   "source": [
    "# obistools is a github-only install\n",
    "library(devtools)\n",
    "# QC helper tools\n",
    "devtools::install_github('iobis/obistools')\n",
    "# Access and visualization of OBIS-held data\n",
    "devtools::install_github('iobis/robis')"
   ]
  },
  {
   "cell_type": "code",
   "execution_count": null,
   "metadata": {},
   "outputs": [],
   "source": [
    "# Get your source file(s) from ogsl.ca/bio/ and put them into a data frame\n",
    "library(tidyverse)\n",
    "\n",
    "# use latin1 as the locale so that it handles accents correctly.\n",
    "data <- read_csv('~/Downloads/data_20200119-1640_fd181d2d/export.csv', local = locale(encoding = \"latin1\"))"
   ]
  },
  {
   "cell_type": "code",
   "execution_count": null,
   "metadata": {},
   "outputs": [],
   "source": [
    "# Begin to explore it\n",
    "\n",
    "# print a summary of the dataframe\n",
    "data"
   ]
  },
  {
   "cell_type": "code",
   "execution_count": null,
   "metadata": {},
   "outputs": [],
   "source": [
    "# print the column names of the dataframe\n",
    "names(data)"
   ]
  },
  {
   "cell_type": "code",
   "execution_count": null,
   "metadata": {},
   "outputs": [],
   "source": [
    "# explore the contents of individual column names to help classification.\n",
    "\n",
    "unique(data$\"Institution propriétaire\")"
   ]
  },
  {
   "cell_type": "code",
   "execution_count": null,
   "metadata": {},
   "outputs": [],
   "source": [
    "# From exploring this data downloaded via ogsl.ca/bio, \n",
    "# The occurrence data from the portal appears to be completely DwC-mappable and ready for OBIS ingestion.\n",
    "# as Occurrence or Occurrence + MoF\n",
    "\n",
    "\"\"\"\n",
    " Date  + Format             ->  map timezone + format to create ISO-8601 as datecollected\n",
    " Emplacement                -> locality ? Basis of higherGeography? [Emplacement]\n",
    " Longitude / Latitude       -> decimalLongitude, decimalLatitude, footprintWKT, geodeticDatum\n",
    " Taxon                      -> vernacularName\n",
    " Nom latin                  -> scientificName\n",
    " Nombre d'individus         -> individualCount\n",
    " Poids                      -> dynamicProperties{weightInGrams:[Poids].toGrams()} \n",
    "                                    and/or MeasurementOrFact entry w/ weight(s)\n",
    " Présence                   -> occurrenceStatus = present  /  absent\n",
    " Biomasse                   ->      if mass in percentage : organismQuantity: [Biomasse] w/ organismQuantityType %biomass\n",
    "                                    else if by total mass:  dynamicProperties{weightInGrams:[Biomasse]}          \n",
    "                                    else: MeasurementOrFact entry w/ individuals + weight(s)  \n",
    " \n",
    " Densité                    ->  != individualCount  , perhaps dynamicProperties{density:[Densité]}\n",
    " Couverture                 ->  ? \n",
    " \n",
    "\n",
    "\n",
    " Méthode d'échantillonnage  -> BasisOfRecord map{ Visuel, (Chalut, Trappe à anguilles + other fishing methods) -> HumanObservation, \n",
    "                                   ?? -> LivingSpecimen, \n",
    "                                   ?? -> MachineObservation }\n",
    " Provenance                 -> establishmentMeans map{ Exotique Envahissante -> invasive,\n",
    "                                                       Exotique Naturalisée  -> naturalized,\n",
    "                                                                             -> introduced,\n",
    "                                                                             -> managed,}\n",
    " Collection                  -> Title? DatasetName?\n",
    " Institution propriétaire    -> institutionCode\n",
    "\"\"\""
   ]
  },
  {
   "cell_type": "code",
   "execution_count": null,
   "metadata": {},
   "outputs": [],
   "source": [
    "# What sort of metadata do we have about the collection?\n",
    "# What is the format of the data in the ogsl.ca system? Is there an even more direct mapping?"
   ]
  }
 ],
 "metadata": {
  "kernelspec": {
   "display_name": "R",
   "language": "R",
   "name": "ir"
  },
  "language_info": {
   "codemirror_mode": "r",
   "file_extension": ".r",
   "mimetype": "text/x-r-source",
   "name": "R",
   "pygments_lexer": "r",
   "version": "3.6.0"
  }
 },
 "nbformat": 4,
 "nbformat_minor": 2
}
