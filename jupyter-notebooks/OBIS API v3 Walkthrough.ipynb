{
 "cells": [
  {
   "cell_type": "markdown",
   "metadata": {},
   "source": [
    "<img src=\"obis.jpg\"/>\n",
    "<h1> OBIS RESTful API Walkthrough</h1>\n",
    "<p> OBIS REST API can be accessed using python request library.</p>\n",
    "<p>the Recommended version of python is <b>Python 3.7+</b> which can be downloaded from <a href=\"https://python.org/\">this</a> link.<br>The required python libraries are listed in the accompanying environment.yml file</p>\n",
    "<hr>\n",
    "<h2> Python Imports </h2>\n",
    "<p>Always run the cell below to initialize your python running environment. The requests package will be used to make calls to the OBIS API return JSON objects<br>\n",
    "    More information about requests can be obtained <a href=\"https://requests.readthedocs.io/\">here</a></p>"
   ]
  },
  {
   "cell_type": "code",
   "execution_count": null,
   "metadata": {},
   "outputs": [],
   "source": [
    "# Import requests and set the OBIS API base URL. \n",
    "import requests\n",
    "import json\n",
    "import pandas as pd\n",
    "import urllib\n",
    "\n",
    "# Convenience function to pretty print JSON objects\n",
    "def print_json(myjson):\n",
    "    print(json.dumps(\n",
    "        myjson,\n",
    "        sort_keys=True,\n",
    "        indent=4,\n",
    "        separators=(',', ': ')\n",
    "    ))\n",
    "    \n",
    "\n",
    "# Initialize the base URL for OBIS. This variable will be used for every API call\n",
    "OBIS_URL = \"https://api.obis.org/v3/\""
   ]
  },
  {
   "cell_type": "markdown",
   "metadata": {},
   "source": [
    "## OCCURRENCE\n",
    "OBIS occurrence data API takes several variables to return the relevant occurrence record data. \n",
    "\n",
    "<h4> Designing Query Strings </h4>\n",
    "<p>Creating such a long query strings are prone to errors and are difficult to debug when an issue occurs.\n",
    "\n",
    "Using a python dictionary along with <b>urlib</b> we can simplify the process for creating complicated url queries.</p>\n"
   ]
  },
  {
   "cell_type": "code",
   "execution_count": null,
   "metadata": {},
   "outputs": [],
   "source": [
    "# Here a complete dictionary of terms we'll use to create our occurrence query string.\n",
    "# The list includes definitions from https://api.obis.org/#/Occurrence/get_occurrence with a few expanded where needed.\n",
    "query = {\n",
    "\"scientificname\": None, # (string) Scientific name. Leave empty to include all taxa.\n",
    "\"taxonid\": None, # (string) Taxon AphiaID.\n",
    "\"datasetid\": None, # (string) Dataset UUID.\n",
    "\"areaid\": None, # (string) Area ID.\n",
    "\"instituteid\": None, # (string) Institute ID.\n",
    "\"nodeid\": None, # (string) Node UUID.\n",
    "\"startdate\": None, # (string) Start date formatted as YYYY-MM-DD.\n",
    "\"enddate\": None, # (string) End date formatted as YYYY-MM-DD.\n",
    "\"startdepth\": None, # (integer) Start depth, in meters.\n",
    "\"enddepth\": None, # (integer) End depth, in meters.\n",
    "\"geometry\": None, # (string) Geometry, formatted as WKT.\n",
    "\"redlist\": None, # (string) Red List species only, true/false.\n",
    "\"hab\": None, # (boolean) HAB species only, true/false.\n",
    "\"mof\": 'true', # (boolean) Include measurements, true/false.\n",
    "\"measurementtype\": None, # (string) Measurement type to be present for occurrence.\n",
    "\"measurementtypeid\": None, # (string) Measurement type ID to be present for occurrence.\n",
    "\"measurementvalue\": None, # (string) Measurement value to be present for occurrence.\n",
    "\"measurementvalueid\": None, # (string) Measurement value ID to be present for occurrence.\n",
    "\"measurementunit\": None, # (string) Measurement unit to be present for occurrence.\n",
    "\"measurementunitid\": None, # (string) Measurement unit ID to be present for occurrence.\n",
    "\"exclude\": None, # (string) Comma separated list of flags to exclude\n",
    "\"fields\": None, # (string) Fields to include in record set, Leave as NULL to return all fields (comma separated)\n",
    "\"after\": None, # (string) Occurrence UUID up to which to skip\n",
    "\"size\": 10 # (integer) Response size - how many results to query\n",
    "}"
   ]
  },
  {
   "cell_type": "markdown",
   "metadata": {},
   "source": [
    "Note: When setting booleans for RESTful APIs in Python, use a string lowercase 'true' or 'false' value instead of Python's built in varible types"
   ]
  },
  {
   "cell_type": "code",
   "execution_count": null,
   "metadata": {},
   "outputs": [],
   "source": [
    "# using dictionary concatination to remove any 'None' (NULL) values\n",
    "query = {key:query[key] for key in query.keys() if query[key] != None}\n",
    "query_str = urllib.parse.urlencode(query, doseq=False)\n",
    "\n",
    "# construct the query and show the output\n",
    "occur_query_string = f'{OBIS_URL}occurrence?{query_str}'\n",
    "occur_query_string"
   ]
  },
  {
   "cell_type": "code",
   "execution_count": null,
   "metadata": {},
   "outputs": [],
   "source": [
    "# Now lets use our query to get occurence data\n",
    "\n",
    "# occurrence?\n",
    "req = requests.get(f'{OBIS_URL}/occurrence?{query}')\n",
    "req.json()['results']"
   ]
  },
  {
   "cell_type": "code",
   "execution_count": null,
   "metadata": {},
   "outputs": [],
   "source": [
    "# Looking over the data output, it's clear we need to further define our query to get only the results we need.\n",
    "\n",
    "# Rewrite the query to take all the 2014 Atlantic Salmon occurance records\n",
    "query = {\"scientificname\": \"Salmo salar\",\n",
    "         \"startdate\": \"2014-01-01\",\n",
    "         \"enddate\" : \"2014-12-31\",\n",
    "         #\"fields\": \"\" #'decimalLatitude,decimalLongitude'\n",
    "        }\n",
    "query = urllib.parse.urlencode(query, doseq=False)\n",
    "\n",
    "# occurrence?\n",
    "req = requests.get(f'{OBIS_URL}/occurrence?{query}')\n",
    "req.json() # returns 30 Atlantic salmon occurences"
   ]
  },
  {
   "cell_type": "markdown",
   "metadata": {},
   "source": [
    "### Using Occurrence Call to return geometry \n",
    "OBIS's Occurrence API call includes additional arguments that can take your initial query and return geometry.\n",
    "\n",
    " - `/occurrence/centroid` - return a central point for the queried occurrence records\n",
    " - `/occurrence/grid/{precision}` - returns a bounding volume that contains all queried occurrence records.\n",
    " - `/occurrence/grid/{precision}/kml` - return bounding volume in kml format\n",
    " - `/occurrence/grid/points` - return unique points of all the occurrence records returned from the query\n",
    " - `/occurrence/grid/point/{x}/{y}` - return only occurrence records at a specific location point\n",
    " - `/occurrence/grid/point/{x}/{y}/{z}` - return only occurrence records at a specific location/depth point\n",
    " - `/occurrence/tile/{x}/{y}/{z}` - not entirely sure about this one."
   ]
  },
  {
   "cell_type": "markdown",
   "metadata": {},
   "source": [
    "## TAXON\n",
    "Basic WoRMS functionality used to retrieve taxonomic data. \n",
    "\n",
    "For more complete suite of queries, use the WoRMS RESTful API directly. Examples for using WoRMS can be found here:  <a href=\"Worms API Walkthrough.ipynb\"> WoRMS Walkthrough</a>"
   ]
  },
  {
   "cell_type": "code",
   "execution_count": null,
   "metadata": {},
   "outputs": [],
   "source": [
    "# Lets query use the taxon function using the sceintificname Salmo salar (Atlantic salmon)\n",
    "\n",
    "scientific_name = 'Salmo salar'\n",
    "\n",
    "# taxon/\n",
    "req = requests.get(f'{OBIS_URL}/taxon/{scientific_name}')\n",
    "req.json()"
   ]
  },
  {
   "cell_type": "code",
   "execution_count": null,
   "metadata": {},
   "outputs": [],
   "source": [
    "# We get back a taxonID which is the same as a WoRMS AphiaID\n",
    "# now feed that id into the same call to taxon\n",
    "taxonID = 127186\n",
    "\n",
    "# taxon/\n",
    "req = requests.get(f'{OBIS_URL}/taxon/{taxonID}')\n",
    "req.json()"
   ]
  },
  {
   "cell_type": "markdown",
   "metadata": {},
   "source": [
    "The Taxon API call works with both scientific name and taxonIDs"
   ]
  },
  {
   "cell_type": "markdown",
   "metadata": {},
   "source": [
    "## Checklist\n",
    "Returns taxonomic records fitting certian criteria. All the query terms are decribed in depth on OBIS's website:\n",
    "<a href=\"https://api.obis.org/#/Checklist\"> here </a>"
   ]
  },
  {
   "cell_type": "code",
   "execution_count": null,
   "metadata": {},
   "outputs": [],
   "source": [
    "# Given a taxonID value the checklist performs the same as the taxon API call\n",
    "taxonID = 127186\n",
    "\n",
    "# checklist?\n",
    "req = requests.get(f'{OBIS_URL}/checklist?taxonid={taxonID}')\n",
    "print_json(req.json())"
   ]
  },
  {
   "cell_type": "code",
   "execution_count": null,
   "metadata": {},
   "outputs": [],
   "source": [
    "# We can change the query to only include the records listed on the IUCN redlist:\n",
    "\n",
    "# checklist/redlist\n",
    "req = requests.get(f'{OBIS_URL}/checklist/redlist')\n",
    "print_json(req.json())"
   ]
  },
  {
   "cell_type": "code",
   "execution_count": null,
   "metadata": {},
   "outputs": [],
   "source": [
    "# Also with the taxonID entered, we can check if the Atlantic Salmon is on the IUCN redlist\n",
    "\n",
    "# checklist/redlist?taxonid=\n",
    "req = requests.get(f'{OBIS_URL}/checklist/redlist?taxonid={taxonID}')\n",
    "print_json(req.json())"
   ]
  },
  {
   "cell_type": "code",
   "execution_count": null,
   "metadata": {},
   "outputs": [],
   "source": [
    "# If we want to check what species have been added recently, use the /checklist/newest call \n",
    "# note: this call takes more time to process\n",
    "\n",
    "# /checklist/newest\n",
    "req = requests.get(f'{OBIS_URL}/checklist/newest')\n",
    "print_json(req.json())"
   ]
  },
  {
   "cell_type": "markdown",
   "metadata": {},
   "source": [
    "## Node\n",
    "Get information on a OBIS Node given the node ID value. If the node isn't set, the *node* API call will return all of the OBIS node records."
   ]
  },
  {
   "cell_type": "code",
   "execution_count": null,
   "metadata": {},
   "outputs": [],
   "source": [
    "# We are not sure which node ID to query so lets get all of the OTN nodes.\n",
    "\n",
    "# node\n",
    "req = requests.get(f'{OBIS_URL}/node')\n",
    "nodes_json = req.json()\n",
    "\n",
    "# count the amount of OBIS nodes\n",
    "nodes_json['total']"
   ]
  },
  {
   "cell_type": "code",
   "execution_count": null,
   "metadata": {},
   "outputs": [],
   "source": [
    "# Print all the names and IDs for each node\n",
    "for node in nodes_json['results']:\n",
    "    print(f'Name: {node[\"name\"]} - ID: {node[\"id\"]}')"
   ]
  },
  {
   "cell_type": "code",
   "execution_count": null,
   "metadata": {},
   "outputs": [],
   "source": [
    "# Oh look, the Ocean Tracking Network is a OBIS node, lets just return our record using the id value:\n",
    "nodeID = '68f83ea7-69a7-44fd-be77-3c3afd6f3cf8'\n",
    "# node/{nodeID}\n",
    "req = requests.get(f'{OBIS_URL}/node/{nodeID}')\n",
    "otn_json = req.json()\n",
    "\n",
    "# Show OTN's OBIS node record\n",
    "print_json(otn_json)"
   ]
  },
  {
   "cell_type": "markdown",
   "metadata": {},
   "source": [
    "### Node Activities\n",
    "Gets a OBIS nodes reported activities"
   ]
  },
  {
   "cell_type": "code",
   "execution_count": null,
   "metadata": {},
   "outputs": [],
   "source": [
    "# Getting the activity records for the Antarctic OBIS node\n",
    "Antarctic_nodeID = 'dc6c6ea2-83f5-4b18-985a-9efff6320d69'\n",
    "\n",
    "#/node/{id}/activities\n",
    "req = requests.get(f'{OBIS_URL}/node/{Antarctic_nodeID}/activities')\n",
    "activities = req.json()\n",
    "\n",
    "# Show Antarctic OBIS node activities\n",
    "print_json(activities)"
   ]
  },
  {
   "cell_type": "markdown",
   "metadata": {},
   "source": [
    "## Dataset\n",
    "Query information about OBIS and OBIS node held datasets."
   ]
  },
  {
   "cell_type": "code",
   "execution_count": null,
   "metadata": {},
   "outputs": [],
   "source": [
    "# We are now check the amount of obis held datasets on species listed on the IUCN Red List\n",
    "\n",
    "# /dataset?\n",
    "req = requests.get(f'{OBIS_URL}/dataset?redlist=true')\n",
    "datasets = req.json()\n",
    "print('Number of Red List datasets in OBIS:', datasets['total'])"
   ]
  },
  {
   "cell_type": "code",
   "execution_count": null,
   "metadata": {},
   "outputs": [],
   "source": [
    "# That's quite the amount of datasets but we only want a single specific dataset\n",
    "# Using the pandas library we can turn the datasets return into easily searchable DataFrame\n",
    "\n",
    "# feed the retruned json's results values into a pandas DataFrame constructor\n",
    "dataset_df = pd.DataFrame(datasets['results'])\n",
    "\n",
    "# Say we want to narrow our dataset down to only abstracts that mention turtles?\n",
    "turtle_data = dataset_df[dataset_df.abstract.str.lower().str.contains('turtle')]\n",
    "turtle_data.head()"
   ]
  },
  {
   "cell_type": "code",
   "execution_count": null,
   "metadata": {},
   "outputs": [],
   "source": [
    "# If we know the dataset ID beforehand we can query OBIS directly for it's dataset record\n",
    "dataset_id = \"ca78b5b9-d4e4-4ab0-bbe1-9f75659769e2\"\n",
    "\n",
    "# dataset/id\n",
    "req = requests.get(f'{OBIS_URL}/dataset/{dataset_id}')\n",
    "req.json()"
   ]
  },
  {
   "cell_type": "markdown",
   "metadata": {},
   "source": [
    "The **url** value returned in the dataset JSON points to the datasets location."
   ]
  },
  {
   "cell_type": "markdown",
   "metadata": {},
   "source": [
    "# Institute\n",
    "Returns OBIS held institution records. \n",
    "\n",
    "Institution records provide brief summaries including **id**, **name**, **country**, **parent** institution, **children** institutions and the number of **records** held in obis."
   ]
  },
  {
   "cell_type": "code",
   "execution_count": null,
   "metadata": {},
   "outputs": [],
   "source": [
    "# We can use the code in this cell to get the names and ids for all the institution listed on OBIS\n",
    "\n",
    "# institute/\n",
    "req = requests.get(f'{OBIS_URL}/institute')\n",
    "for inst in req.json()['results']:\n",
    "    print(inst['name'], inst['id'])"
   ]
  },
  {
   "cell_type": "code",
   "execution_count": null,
   "metadata": {},
   "outputs": [],
   "source": [
    "# It appears that Ocean Tracking Network's Institution ID is 18704\n",
    "# Lets query this ID directly\n",
    "institution_id = 18704\n",
    "# institute/id\n",
    "req = requests.get(f'{OBIS_URL}/institute/{institution_id}')\n",
    "req.json()"
   ]
  },
  {
   "cell_type": "markdown",
   "metadata": {},
   "source": [
    "# Area / Country\n",
    "Area records represent a list of areas reported in OBIS. Country RESTful call returns a list of country records in the OBIS system."
   ]
  },
  {
   "cell_type": "code",
   "execution_count": null,
   "metadata": {},
   "outputs": [],
   "source": [
    "# lets just get all of the OBIS area records\n",
    "\n",
    "# /area\n",
    "req = requests.get(f'{OBIS_URL}/area/')\n",
    "req.json()"
   ]
  },
  {
   "cell_type": "code",
   "execution_count": null,
   "metadata": {},
   "outputs": [],
   "source": [
    "# and the same for country\n",
    "\n",
    "# /country\n",
    "req = requests.get(f'{OBIS_URL}/country')\n",
    "req.json()"
   ]
  },
  {
   "cell_type": "code",
   "execution_count": null,
   "metadata": {},
   "outputs": [],
   "source": [
    "# 59 results? It looks like the OBIS country API call will not return the complete set of country records\n",
    "\n",
    "# With a little bit code we can retrive the first 9 missing records\n",
    "for mid in range(1,9):\n",
    "    req = requests.get(f'{OBIS_URL}/country/{mid}')\n",
    "    country_json = req.json()\n",
    "    if country_json['results']:\n",
    "        print(country_json['results'])"
   ]
  },
  {
   "cell_type": "markdown",
   "metadata": {},
   "source": [
    "## Statistics\n",
    "Get basic statistics on all OBIS datasets. Every call to **statics** can use the same query string arguments as the calls to **occurrence**, **institute**, **dataset** and the **checklist**"
   ]
  },
  {
   "cell_type": "code",
   "execution_count": null,
   "metadata": {},
   "outputs": [],
   "source": [
    "# the presence data query takes no additional arguments \n",
    "\n",
    "# /statistics\n",
    "req = requests.get(f'{OBIS_URL}/statistics')\n",
    "req.json()"
   ]
  },
  {
   "cell_type": "markdown",
   "metadata": {},
   "source": [
    "## Other statistics records\n",
    "other base stats can be retrieved by providing the following arguments to the statistics call:\n",
    "\n",
    " - `/statistics/absence` - Get basic statistics for absence records.\n",
    " - `/statistics/dropped` - Get basic statistics for dropped records.\n",
    " - `/statistics/all` - Get basic statistics for all records (presence, absence, and dropped).\n",
    " - `/statistics/all/count` - Get count only for all records (presence, absence, and dropped).\n",
    " - `/statistics/years` - Get number of presence records per year.\n",
    " - `/statistics/env` - Get number of records per SST, SSS or depth bin.\n",
    " - `/statistics/qc` - Get a QC summary, including missing or invalid values, number of records on land, number of non marine records and number of records without Aphia ID.\n",
    " - `/statistics/composition` - Get an overview of taxonomic composition.\n",
    " - `/statistics/outliers` - Get SST and SSS distribution quartiles.\n",
    " \n",
    "\n",
    "source: https://api.obis.org/#/Statistics"
   ]
  }
 ],
 "metadata": {
  "kernelspec": {
   "display_name": "Python 3",
   "language": "python",
   "name": "python3"
  },
  "language_info": {
   "codemirror_mode": {
    "name": "ipython",
    "version": 3
   },
   "file_extension": ".py",
   "mimetype": "text/x-python",
   "name": "python",
   "nbconvert_exporter": "python",
   "pygments_lexer": "ipython3",
   "version": "3.7.3"
  }
 },
 "nbformat": 4,
 "nbformat_minor": 2
}
