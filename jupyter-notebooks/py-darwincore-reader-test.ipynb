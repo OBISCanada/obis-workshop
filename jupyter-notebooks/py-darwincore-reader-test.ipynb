{
 "cells": [
  {
   "cell_type": "markdown",
   "metadata": {},
   "source": [
    "### How to load in a DwC-A file with py-dwca-reader\n",
    "First, run the imports in the cell below. \n",
    "\n",
    "If you haven't already installed dwca, it's distributed via `pip`.\n",
    "You can install it by running `pip install python-dwca-reader` from the command line. \n",
    "You may need to relaunch your notebook after doing so."
   ]
  },
  {
   "cell_type": "code",
   "execution_count": null,
   "metadata": {},
   "outputs": [],
   "source": [
    "from dwca.read import DwCAReader\n",
    "from dwca.darwincore.utils import qualname as qn"
   ]
  },
  {
   "cell_type": "markdown",
   "metadata": {},
   "source": [
    "Once you've done that, fill in your filename here: "
   ]
  },
  {
   "cell_type": "code",
   "execution_count": null,
   "metadata": {},
   "outputs": [],
   "source": [
    "handle = 'your/file/name/here.zip'"
   ]
  },
  {
   "cell_type": "markdown",
   "metadata": {},
   "source": [
    "Open it up using `DwCAReader(handle)`- we're going to use `with` since that'll make sure it's disposed of properly\n",
    "and doesn't hog memory. "
   ]
  },
  {
   "cell_type": "code",
   "execution_count": null,
   "metadata": {},
   "outputs": [],
   "source": [
    "with DWCAReader(handle) as dwca:\n",
    "    # Now we can interact with the object dwca. \n",
    "    # We can get the rows like this:\n",
    "\n",
    "    dwca.rows\n",
    "    \n",
    "    # We can access a specific row like so:\n",
    "    dwca.get_row_by_index(1)\n",
    "    \n",
    "    # We can also get the row by the id (dwca.get_row_by_id()) \n",
    "    # but the documentation warns that this is brittle and unreliable.\n",
    "    \n",
    "    # If we want to check for a specific term, we can do so like this:\n",
    "    if qn('termname') in dwca.descriptor.core.terms:\n",
    "        print('Termname exists!')"
   ]
  },
  {
   "cell_type": "markdown",
   "metadata": {},
   "source": [
    "`qn` above is short for 'qualname', and just means we don't have to put the full name (i.e, http://rs.tdwg.org/dwc/terms/termname). We `import` it as `qn` above. \n",
    "\n",
    "The complete API for the DwCA Reader can be found here: https://python-dwca-reader.readthedocs.io/en/latest/api.html"
   ]
  },
  {
   "cell_type": "markdown",
   "metadata": {},
   "source": [
    "If we want to load data into a `pandas` dataframe, we can do it like so:"
   ]
  },
  {
   "cell_type": "code",
   "execution_count": null,
   "metadata": {},
   "outputs": [],
   "source": [
    "with DWCAReader(handle) as dwca:\n",
    "    core_df = dwca.pd_read(dwca.core_file_location, parse_dates=True)\n",
    "    display(core_df)"
   ]
  },
  {
   "cell_type": "markdown",
   "metadata": {},
   "source": [
    "After that, `core_df` is just a Pandas dataframe, and can be treated as such. "
   ]
  }
 ],
 "metadata": {
  "kernelspec": {
   "display_name": "Python 3",
   "language": "python",
   "name": "python3"
  },
  "language_info": {
   "codemirror_mode": {
    "name": "ipython",
    "version": 3
   },
   "file_extension": ".py",
   "mimetype": "text/x-python",
   "name": "python",
   "nbconvert_exporter": "python",
   "pygments_lexer": "ipython3",
   "version": "3.8.3"
  }
 },
 "nbformat": 4,
 "nbformat_minor": 2
}
