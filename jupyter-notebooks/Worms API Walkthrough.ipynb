{
 "cells": [
  {
   "cell_type": "markdown",
   "metadata": {},
   "source": [
    "<img src=\"worms.png\"/>\n",
    "<h1> WoRMS RestAPI Walkthrough</h1>\n",
    "<p> Provided is a general outline of how the WoRMS Rest API can be accessed using python.</p>\n",
    "<p>the Recommended version of python is <b>Python 3.7+</b> which can be downloaded from <a href=\"https://python.org/\">this</a> link.<br>The required python libraries are listed in the accompanying environment.yml file</p>\n",
    "<hr>\n",
    "<h2> Python Imports </h2>\n",
    "<p>Always run the cell below to initialize your python running environment. The requests package will be used to make calls to the WoRMS API and returned will be json<br>\n",
    "    More information about requests can be obtained <a href=\"https://requests.readthedocs.io/\">here</a></p>"
   ]
  },
  {
   "cell_type": "code",
   "execution_count": null,
   "metadata": {},
   "outputs": [],
   "source": [
    "# Import requests and set the WoRMS API base URL. \n",
    "import requests\n",
    "import json\n",
    "\n",
    "# Convenience function to pretty print json objects and python dicts\n",
    "def print_json(myjson):\n",
    "    print(json.dumps(\n",
    "        myjson,\n",
    "        sort_keys=True,\n",
    "        indent=4,\n",
    "        separators=(',', ': ')\n",
    "    ))\n",
    "\n",
    "# Initialize the base URL for WoRMS. This variable is unchanged for every api call \n",
    "WORMS_URL = \"http://www.marinespecies.org/rest\""
   ]
  },
  {
   "cell_type": "markdown",
   "metadata": {},
   "source": [
    "## Getting AphiaIDs\n",
    "API calls to retrieve aphiaIDs from the WoRMS system. AphiaIDs are the IDs that link to a specific species in the WoRMS database."
   ]
  },
  {
   "cell_type": "markdown",
   "metadata": {},
   "source": [
    "## Search for AphiaIDs using vernacular\n",
    "Basic search using the WoRMS API to get back a AphiaID from a vernacular name "
   ]
  },
  {
   "cell_type": "code",
   "execution_count": null,
   "metadata": {},
   "outputs": [],
   "source": [
    "# Lets search WoRMS to get the aphiaID using Atlantic salmon as the vernacular input\n",
    "vernacular = 'Atlantic Salmon'\n",
    "\n",
    "# AphiaRecordsByVernacular\n",
    "req = requests.get(f'{WORMS_URL}/AphiaRecordsByVernacular/{vernacular}')\n",
    "print_json(req.json())"
   ]
  },
  {
   "cell_type": "markdown",
   "metadata": {},
   "source": [
    "### Search using Multilingual vernacular names?\n",
    "WoRMS accepts vernacular names in a multitude of difference languages as shown below."
   ]
  },
  {
   "cell_type": "code",
   "execution_count": null,
   "metadata": {},
   "outputs": [],
   "source": [
    "# Try in french and see if we get the same aphiaID for 'Saumon atlantique'\n",
    "vernacular = 'Saumon atlantique'\n",
    "\n",
    "# AphiaRecordsByVernacular\n",
    "req = requests.get(f'{WORMS_URL}/AphiaRecordsByVernacular/{vernacular}')\n",
    "print_json(req.json())"
   ]
  },
  {
   "cell_type": "markdown",
   "metadata": {},
   "source": [
    "### Searching aphiaID by using scientific name\n",
    "Use the API call AphiaRecordsByName to retrieve aphiaID WoRMS records using the scientific name"
   ]
  },
  {
   "cell_type": "code",
   "execution_count": null,
   "metadata": {},
   "outputs": [],
   "source": [
    "# Now let's try the scientific name for Atlantic Salmon, 'Salmo salar'\n",
    "scientificName = 'Salmo Salar'\n",
    "\n",
    "# AphiaRecordsByName\n",
    "req = requests.get(f'{WORMS_URL}/AphiaRecordsByName/{scientificName}')\n",
    "print_json(req.json())"
   ]
  },
  {
   "cell_type": "markdown",
   "metadata": {},
   "source": [
    "### Refine AphiaRecordsByName search"
   ]
  },
  {
   "cell_type": "code",
   "execution_count": null,
   "metadata": {},
   "outputs": [],
   "source": [
    "# The above cell returned more results than needed. Since we know the exact scientific name\n",
    "# we are going to add \"like=false\" to the query,\n",
    "# this will exclude all the extra like matched results.\n",
    "scientificName = 'Salmo Salar'\n",
    "like_matched = 'false'  \n",
    "\n",
    "# AphiaRecordsByName\n",
    "req = requests.get(f'{WORMS_URL}/AphiaRecordsByName/{scientificName}?like={like_matched}')\n",
    "print_json(req.json())"
   ]
  },
  {
   "cell_type": "markdown",
   "metadata": {},
   "source": [
    "## Species Attributes\n",
    "Using a valid aphiaID, retrieve species specific attribute data held in WoRMs"
   ]
  },
  {
   "cell_type": "code",
   "execution_count": null,
   "metadata": {
    "scrolled": true
   },
   "outputs": [],
   "source": [
    "# Now that we got the valid aphiaID for our Atlatic Salmon species, lets use WoRMS to retrieve some species attributes.\n",
    "aphiaID = 127186 # Atlantic Salmon ID\n",
    "req = requests.get(f'{WORMS_URL}/AphiaAttributesByAphiaID/{aphiaID}')\n",
    "attributes = req.json()\n",
    "\n",
    "print_json(attributes)"
   ]
  },
  {
   "cell_type": "code",
   "execution_count": null,
   "metadata": {
    "scrolled": false
   },
   "outputs": [],
   "source": [
    "# Whoa, that was a bunch of attribute data. \n",
    "\n",
    "# The standard columns for measurements are:\n",
    "['AphiaID', 'measurementTypeID', 'measurementType', 'measurementValue', 'source_id', \n",
    " 'reference', 'qualitystatus', 'AphiaID_Inherited', 'CategoryID', 'children']\n",
    "\n",
    "# Extra measurement data is being held in the children column item so \n",
    "# joining the all children nodes will yeild more visually uncomplicated records\n",
    "repeated_columns = ['AphiaID','reference','qualitystatus','AphiaID_Inherited','source_id']\n",
    "\n",
    "# recursive children walking function\n",
    "def walk(nodes, row, level=1):\n",
    "    for node in nodes:\n",
    "        for k in node.keys():\n",
    "            if k == 'children':\n",
    "                walk(node[k], row)\n",
    "            elif k not in repeated_columns:\n",
    "                row[str(node['measurementTypeID']) + '_' + k] = node[k]\n",
    "          \n",
    "# Loop through all the Atlantic Salmon attributes\n",
    "for attr in attributes:\n",
    "    row = {}\n",
    "    for k in attr.keys():\n",
    "        if k == 'children':\n",
    "            walk(attr[k], row)\n",
    "        else:\n",
    "            row[k] = attr[k]\n",
    "            \n",
    "    display(row)\n",
    "    print('-' * 120)"
   ]
  },
  {
   "cell_type": "markdown",
   "metadata": {},
   "source": [
    "### Get more info about measurementTypes accepted for a CategoryID\n",
    "The call to AphiaAttributeValuesByCategoryID will show all availible acceptable values for a given CategoryID"
   ]
  },
  {
   "cell_type": "code",
   "execution_count": null,
   "metadata": {},
   "outputs": [],
   "source": [
    "# Given an measurementTypeID IUCN Red List Category (1), quering it's categoryID (1) \n",
    "# will show all the accepted values for this category\n",
    "\n",
    "CategoryID = 1\n",
    "# AphiaAttributeValuesByCategoryID\n",
    "req = requests.get(f'{WORMS_URL}/AphiaAttributeValuesByCategoryID/{CategoryID}')\n",
    "req.json()"
   ]
  },
  {
   "cell_type": "markdown",
   "metadata": {},
   "source": [
    "## Distributions\n",
    "Querying for distributions using AphiaDistributionsByAphiaID will return regions where a species has been observed including marineregions.org links. "
   ]
  },
  {
   "cell_type": "code",
   "execution_count": null,
   "metadata": {},
   "outputs": [],
   "source": [
    "# Lets retrieve the list of distributions on record for Atlantic Salmon, with record status and quality status\n",
    "req = requests.get(WORMS_URL + f'/AphiaDistributionsByAphiaID/{aphiaID}')\n",
    "distributions = req.json()\n",
    "\n",
    "for distrib in distributions:\n",
    "    locality = distrib['locality']\n",
    "    location_id = distrib['locationID']\n",
    "    record_status = distrib['recordStatus']\n",
    "    quality_status = distrib['qualityStatus']\n",
    "    print(locality, location_id, record_status, quality_status)"
   ]
  },
  {
   "cell_type": "code",
   "execution_count": null,
   "metadata": {},
   "outputs": [],
   "source": [
    "# On to mapping the distributions for Atlantic Salmon. We will accomplish this using folium and the links \n",
    "# WoRMS gives to MarineRegions.org\n",
    "import folium\n",
    "m = folium.Map() # Create a map object\n",
    "\n",
    "for distrib in distributions:\n",
    "    locality = distrib['locality']\n",
    "    location_id = distrib['locationID']\n",
    "    \n",
    "    # retrieve location info from MarineRegion's API\n",
    "    req = requests.get(location_id)\n",
    "    location = req.json()\n",
    "    max_lat = location['maxLatitude']\n",
    "    min_lat = location['minLatitude']\n",
    "    max_lon = location['maxLongitude']\n",
    "    min_lon = location['minLongitude']\n",
    "    \n",
    "    # If all values are present, create bounding box, otherwise create point\n",
    "    if all([max_lat, min_lat, max_lon, min_lon]):\n",
    "        # Creating the polygon in a clockwise pattern\n",
    "        bbox = folium.Polygon([[min_lat, min_lon],\n",
    "                               [max_lat, min_lon],\n",
    "                               [max_lat, max_lon],\n",
    "                               [min_lat, max_lon],\n",
    "                               [min_lat, min_lon]], popup=location)\n",
    "        m.add_child(bbox) # add bounding box to map \n",
    "    else:\n",
    "        point = folium.Marker([location['latitude'], location['longitude']], popup=location)\n",
    "        m.add_child(point) # add marker points to map\n",
    "    \n",
    "m # Display the resulting map with distribtions shown"
   ]
  },
  {
   "cell_type": "markdown",
   "metadata": {},
   "source": [
    "## External Indentifiers\n",
    "Many other Taxonomic databases use their own ID systems to reference species records. Using AphiaExternalIDByAphiaID for a given aphiaID, you can retrieve these external IDs as they are known to WoRMS."
   ]
  },
  {
   "cell_type": "code",
   "execution_count": null,
   "metadata": {},
   "outputs": [],
   "source": [
    "# Let's get all the external IDs for Atlantic Salmon from external taxonomic systems known to WoRMS\n",
    "\n",
    "external_ids = {'algaebase': 'Algaebase species ID',\n",
    "    'bold': 'Barcode of Life Database (BOLD) TaxID',\n",
    "    'dyntaxa': 'Dyntaxa ID',\n",
    "    'eol': 'Encyclopedia of Life (EoL) page identifier',\n",
    "    'fishbase': 'FishBase species ID',\n",
    "    'iucn': 'IUCN Red List Identifier',\n",
    "    'lsid': 'Life Science Identifier',\n",
    "    'ncbi':' NCBI Taxonomy ID (Genbank)',\n",
    "    'tsn': 'ITIS Taxonomic Serial Number',\n",
    "    'gisd': 'Global Invasive Species Database'}\n",
    "\n",
    "# Loop and print out all known IDs\n",
    "for ext in external_ids.keys():\n",
    "    # AphiaExternalIDByAphiaID\n",
    "    req = requests.get(f'{WORMS_URL}/AphiaExternalIDByAphiaID/{aphiaID}?type={ext}')\n",
    "    print(f'{ext}: ', end=\"\")\n",
    "    if req.content:\n",
    "        print(req.json()[0])\n",
    "    else:\n",
    "        print('None')"
   ]
  },
  {
   "cell_type": "markdown",
   "metadata": {},
   "source": [
    "## Sources\n",
    "Get source and reference data given a valid aphiaID value."
   ]
  },
  {
   "cell_type": "code",
   "execution_count": null,
   "metadata": {},
   "outputs": [],
   "source": [
    "# Now we are going to retrieve all the source reference data Atlantic Salmon\n",
    "req = requests.get(f'{WORMS_URL}/AphiaSourcesByAphiaID/{aphiaID}')\n",
    "req.json()"
   ]
  },
  {
   "cell_type": "markdown",
   "metadata": {},
   "source": [
    "## Taxonomic data\n",
    "Directly query taxonomic data. Source/definitions borrowed from http://www.marinespecies.org/rest/"
   ]
  },
  {
   "cell_type": "code",
   "execution_count": null,
   "metadata": {},
   "outputs": [],
   "source": [
    "# AphiaChildrenByAphiaID\n",
    "req = requests.get(f'{WORMS_URL}/AphiaChildrenByAphiaID/{aphiaID}')\n",
    "req.json()"
   ]
  },
  {
   "cell_type": "code",
   "execution_count": null,
   "metadata": {},
   "outputs": [],
   "source": [
    "# the direct children (max. 50) for a given AphiaID\n",
    "    \n",
    "# AphiaChildrenByAphiaID\n",
    "req = requests.get(f'{WORMS_URL}/AphiaChildrenByAphiaID/{aphiaID}')\n",
    "req.json()"
   ]
  },
  {
   "cell_type": "code",
   "execution_count": null,
   "metadata": {},
   "outputs": [],
   "source": [
    "# the complete classification for one taxon. This also includes any sub or super ranks.\n",
    "    \n",
    "# AphiaClassificationByAphiaID\n",
    "req = requests.get(f'{WORMS_URL}/AphiaClassificationByAphiaID/{aphiaID}')\n",
    "req.json()"
   ]
  },
  {
   "cell_type": "code",
   "execution_count": null,
   "metadata": {},
   "outputs": [],
   "source": [
    "# the AphiaID for a given name\n",
    "\n",
    "scientific_name = 'Salmo salar'\n",
    "# AphiaIDByName\n",
    "req = requests.get(f'{WORMS_URL}/AphiaIDByName/{scientific_name}')\n",
    "req.json()"
   ]
  },
  {
   "cell_type": "code",
   "execution_count": null,
   "metadata": {},
   "outputs": [],
   "source": [
    "# the name for a given AphiaID\n",
    "    \n",
    "# AphiaNameByAphiaID\n",
    "req = requests.get(f'{WORMS_URL}/AphiaNameByAphiaID/{aphiaID}')\n",
    "req.json()"
   ]
  },
  {
   "cell_type": "code",
   "execution_count": null,
   "metadata": {},
   "outputs": [],
   "source": [
    "# the complete AphiaRecord for a given AphiaID\n",
    "    \n",
    "# AphiaRecordByAphiaID\n",
    "req = requests.get(f'{WORMS_URL}/AphiaRecordByAphiaID/{aphiaID}')\n",
    "req.json()"
   ]
  },
  {
   "cell_type": "code",
   "execution_count": null,
   "metadata": {},
   "outputs": [],
   "source": [
    "# an AphiaRecord for multiple AphiaIDs in one go (max: 50)\n",
    "\n",
    "aphiaID1 = 127186\n",
    "aphiaID2 = 137116\n",
    "\n",
    "# AphiaRecordsByAphiaIDs\n",
    "req = requests.get(f'{WORMS_URL}/AphiaRecordsByAphiaIDs?aphiaids[]={aphiaID1}&aphiaids[]={aphiaID2}')\n",
    "req.json()"
   ]
  },
  {
   "cell_type": "code",
   "execution_count": null,
   "metadata": {},
   "outputs": [],
   "source": [
    "# Lists all AphiaRecords (taxa) that have their last edit action (modified or added) during the specified period\n",
    "\n",
    "startdate='1998-10-01'\n",
    "enddate='1999-12-31'\n",
    "# AphiaRecordsByDate\n",
    "req = requests.get(f'{WORMS_URL}/AphiaRecordsByDate?startdate={startdate}&enddate={enddate}')\n",
    "req.json()"
   ]
  },
  {
   "cell_type": "code",
   "execution_count": null,
   "metadata": {},
   "outputs": [],
   "source": [
    "# Try to find AphiaRecords using the TAXAMATCH fuzzy matching algorithm by Tony Rees\n",
    "\n",
    "scientific_name = 'Salmo salarr'\n",
    "# AphiaRecordsByMatchNames\n",
    "req = requests.get(f'{WORMS_URL}/AphiaRecordsByMatchNames?scientificnames[]={scientific_name}')\n",
    "req.json()"
   ]
  },
  {
   "cell_type": "code",
   "execution_count": null,
   "metadata": {},
   "outputs": [],
   "source": [
    "# one or more matching (max. 50) AphiaRecords for a given name\n",
    "\n",
    "scientific_name = 'Salmo salar'\n",
    "\n",
    "# AphiaRecordsByName\n",
    "req = requests.get(f'{WORMS_URL}/AphiaRecordsByName/{scientific_name}')\n",
    "req.json()"
   ]
  },
  {
   "cell_type": "code",
   "execution_count": null,
   "metadata": {},
   "outputs": [],
   "source": [
    "# For each given scientific name, try to find one or more AphiaRecords\n",
    "\n",
    "scientific_name1 = 'Salmo salar'\n",
    "scientific_name2 =  'Monodon monoceros'\n",
    "# AphiaRecordsByNames\n",
    "req = requests.get(f'{WORMS_URL}/AphiaRecordsByNames?scientificnames[]={scientific_name1}'\n",
    "                   f'&scientificnames[]={scientific_name2}')\n",
    "req.json()"
   ]
  },
  {
   "cell_type": "code",
   "execution_count": null,
   "metadata": {},
   "outputs": [],
   "source": [
    "# the AphiaRecords for a given taxonRankID (max 50)\n",
    "    \n",
    "rankID = '220' # Species\n",
    "# AphiaRecordsByTaxonRankID\n",
    "req = requests.get(f'{WORMS_URL}/AphiaRecordsByTaxonRankID/{rankID}')\n",
    "req.json()"
   ]
  },
  {
   "cell_type": "code",
   "execution_count": null,
   "metadata": {},
   "outputs": [],
   "source": [
    "# all synonyms for a given AphiaID\n",
    "    \n",
    "# AphiaSynonymsByAphiaID\n",
    "req = requests.get(f'{WORMS_URL}/AphiaSynonymsByAphiaID/{aphiaID}')\n",
    "req.json()"
   ]
  },
  {
   "cell_type": "code",
   "execution_count": null,
   "metadata": {},
   "outputs": [],
   "source": [
    "# taxonomic ranks by their identifier\n",
    "\n",
    "rankID = '220' # Species\n",
    "# AphiaTaxonRanksByID\n",
    "req = requests.get(f'{WORMS_URL}/AphiaTaxonRanksByID/{rankID}')\n",
    "req.json()"
   ]
  },
  {
   "cell_type": "code",
   "execution_count": null,
   "metadata": {},
   "outputs": [],
   "source": [
    "# taxonomic ranks by their name\n",
    "    \n",
    "# AphiaTaxonRanksByName\n",
    "req = requests.get(f'{WORMS_URL}/AphiaTaxonRanksByName/{aphiaID}')\n",
    "req.json()"
   ]
  }
 ],
 "metadata": {
  "kernelspec": {
   "display_name": "Python 3",
   "language": "python",
   "name": "python3"
  },
  "language_info": {
   "codemirror_mode": {
    "name": "ipython",
    "version": 3
   },
   "file_extension": ".py",
   "mimetype": "text/x-python",
   "name": "python",
   "nbconvert_exporter": "python",
   "pygments_lexer": "ipython3",
   "version": "3.8.3"
  }
 },
 "nbformat": 4,
 "nbformat_minor": 2
}
