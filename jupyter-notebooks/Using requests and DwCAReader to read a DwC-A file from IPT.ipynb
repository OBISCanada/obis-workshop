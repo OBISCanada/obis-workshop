{
 "cells": [
  {
   "cell_type": "markdown",
   "metadata": {},
   "source": [
    "# Using requests and DwCAReader to read DwC-A Files from IPT\n",
    "\n",
    "Using the two modules in python, request and dwca you can read DwC-A files directly from an IPT resource.\n",
    "\n",
    "The required modules are included in the *environment.yml* or can be directly installed using the pip commands:\n",
    "\n",
    "`pip install requests`\n",
    "\n",
    "`pip install python-dwca-reader`\n",
    "\n",
    "After isntallation you may have to restart your notebook before proceeding. This can be accomplished by selecting from the file menu `Kernel ->  Restart`"
   ]
  },
  {
   "cell_type": "code",
   "execution_count": null,
   "metadata": {},
   "outputs": [],
   "source": [
    "from dwca.read import DwCAReader\n",
    "import requests\n",
    "from dwca.darwincore.utils import qualname as qn"
   ]
  },
  {
   "cell_type": "markdown",
   "metadata": {},
   "source": [
    "## Setting Your IPT resource variable\n",
    "set the variables to point to the server and resource you want to access."
   ]
  },
  {
   "cell_type": "code",
   "execution_count": null,
   "metadata": {},
   "outputs": [],
   "source": [
    "IPT_URL  = \"https://oceantrack.org/ipt/\" # Base URL of the IPT server\n",
    "resourceID = \"otndfobalfrytags\" # IPT resource ID"
   ]
  },
  {
   "cell_type": "markdown",
   "metadata": {},
   "source": [
    "## Downloading the DwC-A File from IPT\n",
    "using the varibles set above, requests will retrieve the latest version of the DwC-A File which can be saved locally. \n",
    "\n",
    "In this example the requested file comes from the *otndfobalfrytags* resource on <a href=\"https://oceantrack.org/ipt/\">OTN's IPT</a> server. A DwC-A version number can be optionally provided but if ommitted the latest file is requested."
   ]
  },
  {
   "cell_type": "code",
   "execution_count": null,
   "metadata": {},
   "outputs": [],
   "source": [
    "req = requests.get(f'{IPT_URL}archive.do?r={resourceID}') # Building request URL\n",
    "print(f'{IPT_URL}archive.do?r={resourceID}')\n",
    "\n",
    "zipfilename = f'{resourceID}_DwC.zip'\n",
    "# Writes the output zip file \n",
    "with open(zipfilename, 'wb') as zipfile:\n",
    "    zipfile.write(req.content)\n",
    "    print(f'{zipfilename} file created.')\n"
   ]
  },
  {
   "cell_type": "markdown",
   "metadata": {},
   "source": [
    "Open it up using `DwCAReader(handle)`- we're going to use `with` since that'll make sure it's disposed of properly\n",
    "and doesn't hog memory. "
   ]
  },
  {
   "cell_type": "code",
   "execution_count": null,
   "metadata": {},
   "outputs": [],
   "source": [
    "with DwCAReader(zipfilename) as dwca:\n",
    "    # Now we can interact with the object dwca. \n",
    "    # We can get the rows like this:\n",
    "    dwca.rows\n",
    "    \n",
    "    # We can access a specific row like so:\n",
    "    requested_row = dwca.get_row_by_index(1)\n",
    "    \n",
    "    # We can display the requested row using print\n",
    "    print(requested_row)\n",
    "    \n",
    "    # We can also get the row by the id (dwca.get_row_by_id()) \n",
    "    # but the documentation warns that this is brittle and unreliable.\n",
    "    \n",
    "    # If we want to check for a specific term, we can do so like this:\n",
    "    if qn('subgenus') in dwca.descriptor.core.terms:\n",
    "        print('subgenus: Termname exists!')"
   ]
  },
  {
   "cell_type": "markdown",
   "metadata": {},
   "source": [
    "`qn` above is short for 'qualname', and just means we don't have to put the full name (i.e, http://rs.tdwg.org/dwc/terms/termname). We `import` it as `qn` above. \n",
    "\n",
    "The complete API for the DwCA Reader can be found here: https://python-dwca-reader.readthedocs.io/en/latest/api.html"
   ]
  },
  {
   "cell_type": "markdown",
   "metadata": {},
   "source": [
    "If we want to load data into a `pandas` dataframe, we can do it like so:"
   ]
  },
  {
   "cell_type": "code",
   "execution_count": null,
   "metadata": {},
   "outputs": [],
   "source": [
    "with DwCAReader(zipfilename) as dwca:\n",
    "    core_df = dwca.pd_read(dwca.core_file_location, parse_dates=True)\n",
    "    display(core_df)"
   ]
  },
  {
   "cell_type": "markdown",
   "metadata": {},
   "source": [
    "After that, `core_df` is just a Pandas dataframe, and can be treated as such. "
   ]
  }
 ],
 "metadata": {
  "kernelspec": {
   "display_name": "Python 3",
   "language": "python",
   "name": "python3"
  },
  "language_info": {
   "codemirror_mode": {
    "name": "ipython",
    "version": 3
   },
   "file_extension": ".py",
   "mimetype": "text/x-python",
   "name": "python",
   "nbconvert_exporter": "python",
   "pygments_lexer": "ipython3",
   "version": "3.7.3"
  }
 },
 "nbformat": 4,
 "nbformat_minor": 2
}
