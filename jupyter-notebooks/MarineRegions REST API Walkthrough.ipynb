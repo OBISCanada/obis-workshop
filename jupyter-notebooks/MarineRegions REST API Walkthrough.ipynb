{
 "cells": [
  {
   "cell_type": "markdown",
   "metadata": {},
   "source": [
    "<img src=\"marine_region.jpg\"/>\n",
    "<h1> Marine Regions RESTful API Walkthrough</h1>\n",
    "<p> MarineRegion's REST API can be accessed using python request library. All API calls to marineregions can return either a JSON file or a XML depending on the extension specified in the call. For our purposes we'll be using the <b>json</b> extension exclusively as it provides a better return for python to parse.</p>\n",
    "<p>the Recommended version of python is <b>Python 3.7+</b> which can be downloaded from <a href=\"https://python.org/\">this</a> link.<br>The required python libraries are listed in the accompanying environment.yml file</p>\n",
    "<hr>\n",
    "<h2> Python Imports </h2>\n",
    "<p>Always run the cell below to initialize your python running environment. The requests package will be used to make calls to the OBIS API return JSON objects<br>\n",
    "    More information about requests can be obtained <a href=\"https://requests.readthedocs.io/\">here</a></p>"
   ]
  },
  {
   "cell_type": "code",
   "execution_count": null,
   "metadata": {},
   "outputs": [],
   "source": [
    "# Import requests and set the Marine Regions API base URL. \n",
    "import requests\n",
    "import json\n",
    "try:\n",
    "    import folium\n",
    "except ModuleNotFoundError:\n",
    "    print('Folium is not installed. Maps will not work.')\n",
    "    \n",
    "# Convenience function to pretty print json objects and python dicts\n",
    "def print_json(myjson):\n",
    "    print(json.dumps(\n",
    "        myjson,\n",
    "        sort_keys=True,\n",
    "        indent=4,\n",
    "        separators=(',', ': ')\n",
    "    ))\n",
    "# Initialize the base URL for Marine Regions. This variable is unchanged for every api call \n",
    "MARINE_REGIONS_URL = \"http://marineregions.org/rest\"\n",
    "API_EXT = \"json\" # sets the return format for every MarineRegion API query"
   ]
  },
  {
   "cell_type": "markdown",
   "metadata": {},
   "source": [
    "## Get Gazetteer Records by Name"
   ]
  },
  {
   "cell_type": "markdown",
   "metadata": {},
   "source": [
    "### By Name, with 'like' (defaults to True if not included)\n",
    "When the argument for '**like**' (bool) is not provided, the gazetteer API will match everything **before** and **after** your search term.\n",
    "\n",
    "The argument '**fuzzy**' (bool) will use the Levenshtein algorithm to match nearest records. By default this is set as '**false**'\n",
    "\n",
    "    Note: Boolean values should be set using 'true' or 'false' python strings."
   ]
  },
  {
   "cell_type": "code",
   "execution_count": null,
   "metadata": {},
   "outputs": [],
   "source": [
    "# Lets try query using the country Belgian as the name value\n",
    "name = 'Belgian'\n",
    "\n",
    "# /getGazetteerRecordsByName.json\n",
    "req = requests.get(f'{MARINE_REGIONS_URL}/getGazetteerRecordsByName.{API_EXT}/{name}/')\n",
    "print_json(req.json())"
   ]
  },
  {
   "cell_type": "markdown",
   "metadata": {},
   "source": [
    "### By Name, without 'like'\n",
    "When setting like to false make sure you provide the exact name of Gazetteer resource as it appears in MarineRegions"
   ]
  },
  {
   "cell_type": "code",
   "execution_count": null,
   "metadata": {},
   "outputs": [],
   "source": [
    "# Setting the \n",
    "name = \"Belgian 24 NM\"\n",
    "like = 'false' #Defaults to true\n",
    "\n",
    "# getGazetteerRecordsByName.json/\n",
    "req = requests.get(f'{marineRegions_url}/getGazetteerRecordsByName.{API_EXT}/{name}/{like}/')\n",
    "req.json()"
   ]
  },
  {
   "cell_type": "markdown",
   "metadata": {},
   "source": [
    "## Get Multiple Gazetteers By Name\n",
    "\n",
    "Using the Call getGazetteerRecordsByNames.json, first provide the values for like and fuzzy before providing the multiple name values."
   ]
  },
  {
   "cell_type": "code",
   "execution_count": null,
   "metadata": {},
   "outputs": [],
   "source": [
    "# Lets keep the defaults for like and fuzzy\n",
    "like = 'true' \n",
    "fuzzy = 'false'\n",
    "\n",
    "# build a slash separated list of names to query by\n",
    "names = [\"Canadian Coast\", \"Mexican Coast\", \"Norwegian Coast\"]\n",
    "names_string = '/'.join(names)\n",
    "\n",
    "query_string = f'{marineRegions_url}/getGazetteerRecordsByNames.{API_EXT}/{like}/{fuzzy}/{names_string}/'\n",
    "req = requests.get(query_string)\n",
    "print_json(req.json())"
   ]
  },
  {
   "cell_type": "markdown",
   "metadata": {},
   "source": [
    "## Getting Gazetteers by Sources\n",
    "\n",
    "Querying the getGazetteerSources will provide you will a list of MarineRegions source information. There is no arguments or query strings to provide to this call."
   ]
  },
  {
   "cell_type": "code",
   "execution_count": null,
   "metadata": {},
   "outputs": [],
   "source": [
    "# Getting the list of gazetteer sources\n",
    "\n",
    "# /getGazetteerSources\n",
    "req = requests.get(f'{marineRegions_url}/getGazetteerSources.{API_EXT}/')\n",
    "req.json()"
   ]
  },
  {
   "cell_type": "markdown",
   "metadata": {},
   "source": [
    "### Get Gazetteers from a Specific Source\n",
    "If you know the name exact source name you can use that value in the call to *getGazetteerRecordsBySource* to return only the gazetteer records from that source."
   ]
  },
  {
   "cell_type": "code",
   "execution_count": null,
   "metadata": {},
   "outputs": [],
   "source": [
    "# Picking only the gazetteer records for SAIL\n",
    "source = \"SAIL\"\n",
    "\n",
    "#/getGazetteerRecordsBySource\n",
    "req = requests.get(f'{marineRegions_url}/getGazetteerRecordsBySource.{API_EXT}/{source}/')\n",
    "sail_data = req.json()"
   ]
  },
  {
   "cell_type": "code",
   "execution_count": null,
   "metadata": {},
   "outputs": [],
   "source": [
    "# For every point that has a location lets map those points to the map \n",
    "sail_map = folium.Map()\n",
    "for point in sail_data:\n",
    "    try:\n",
    "        p = folium.Marker([point['latitude'], point['longitude']], popup=point)\n",
    "        sail_map.add_child(p)\n",
    "    except:\n",
    "        pass\n",
    "    \n",
    "sail_map"
   ]
  },
  {
   "cell_type": "markdown",
   "metadata": {},
   "source": [
    "## Get Gazetteer by MGRID\n",
    "A MarineRegions MGRID is used to query for a specific Gazetteer record."
   ]
  },
  {
   "cell_type": "markdown",
   "metadata": {},
   "source": [
    "## Gazetteer Records\n",
    "Returns the gazetteer records for a given MGRID"
   ]
  },
  {
   "cell_type": "code",
   "execution_count": null,
   "metadata": {},
   "outputs": [],
   "source": [
    "mgrid = \"3293\" # MGRID for Belgian Exclusive Economic Zone\n",
    "\n",
    "req = requests.get(f'{marineRegions_url}/getGazetteerRecordByMRGID.{API_EXT}/{mgrid}/')\n",
    "req.json()"
   ]
  },
  {
   "cell_type": "markdown",
   "metadata": {},
   "source": [
    "## Gazetteer Names\n",
    "Just returns the name values for a MGRID"
   ]
  },
  {
   "cell_type": "code",
   "execution_count": null,
   "metadata": {},
   "outputs": [],
   "source": [
    "mgrid = \"3293\"\n",
    "\n",
    "# /getGazetteerNamesByMRGID\n",
    "response = requests.get(f'{marineRegions_url}/getGazetteerNamesByMRGID.{API_EXT}/{mgrid}/')\n",
    "response_json = response.json()\n",
    "print_json(response_json)"
   ]
  },
  {
   "cell_type": "markdown",
   "metadata": {},
   "source": [
    "## Get Gazetteer Relations by MGRID\n",
    "Returns related Gazetteer records given a valid MGRID.\n",
    "\n",
    "Relations are defined by the type variable."
   ]
  },
  {
   "cell_type": "code",
   "execution_count": null,
   "metadata": {},
   "outputs": [],
   "source": [
    "# What are all the marine regions related to Belgian Exclusive Economic Zone?\n",
    "mgrid = \"3293\"\n",
    "direction = 'both' #Must be upper, lower, or both\n",
    "rtype = 'all' #Must be either partof,partlypartof,adjecentto,similarto,administrativepartof,influencedby or all\n",
    "\n",
    "req = requests.get(f'{marineRegions_url}/getGazetteerRelationsByMRGID.{API_EXT}/{mgrid}/{direction}/{rtype}')\n",
    "related_belgian_eco_zone = response.json()\n",
    "\n",
    "related_belgian_eco_zone"
   ]
  },
  {
   "cell_type": "code",
   "execution_count": null,
   "metadata": {},
   "outputs": [],
   "source": [
    "# Lets map all the related gazetteer records\n",
    "m = folium.Map(location=[51.46545, 2.70504],zoom_start=8)\n",
    "for point in related_belgian_eco_zone:\n",
    "    try:\n",
    "        if point['MRGID'] == 3293:\n",
    "            p = folium.Marker([point['latitude'], point['longitude']], popup=point, icon=folium.Icon(color='red'))\n",
    "            m.add_child(p)\n",
    "        else:\n",
    "            p = folium.Marker([point['latitude'], point['longitude']], popup=point)\n",
    "            m.add_child(p)\n",
    "    except:\n",
    "        pass\n",
    "    \n",
    "m"
   ]
  },
  {
   "cell_type": "markdown",
   "metadata": {},
   "source": [
    "## Get Gazetteer WMSes\n",
    "The WMS records contain urls to layers that can be used in GIS packages such as ArcGIS and QGIS."
   ]
  },
  {
   "cell_type": "code",
   "execution_count": null,
   "metadata": {},
   "outputs": [],
   "source": [
    "mgrid = \"3293\"\n",
    "\n",
    "req = requests.get(f'{marineRegions_url}/getGazetteerWMSes.{API_EXT}/{mgrid}/')\n",
    "req.json()"
   ]
  },
  {
   "cell_type": "markdown",
   "metadata": {},
   "source": [
    "## Get Gazetteer Records by Latitude/Longitude\n",
    "Return Gazetteer records within the default radius of a specific lat/lon"
   ]
  },
  {
   "cell_type": "code",
   "execution_count": null,
   "metadata": {},
   "outputs": [],
   "source": [
    "lat = 45.0 #Double, from 0 to 90\n",
    "lon = 0 #Double, from -180 to 180\n",
    "#Default radius is 5 degrees for both lat and lon\n",
    "\n",
    "req = requests.get(f'{marineRegions_url}/getGazetteerRecordsByLatLong.{API_EXT}/{lat}/{lon}/')\n",
    "map_points = req.json()\n",
    "map_points"
   ]
  },
  {
   "cell_type": "code",
   "execution_count": null,
   "metadata": {},
   "outputs": [],
   "source": [
    "# Map the results\n",
    "byradius_map = folium.Map(location=[lat, lon],zoom_start=5)\n",
    "for point in map_points:\n",
    "    try:\n",
    "            p = folium.Marker([point['latitude'], point['longitude']], popup=point)\n",
    "            byradius_map.add_child(p)\n",
    "    except:\n",
    "        pass\n",
    "    \n",
    "byradius_map"
   ]
  },
  {
   "cell_type": "markdown",
   "metadata": {},
   "source": [
    "## Get Gazetteer Types\n",
    "Retrieve all the Gazetteer Types along with their descriptions."
   ]
  },
  {
   "cell_type": "code",
   "execution_count": null,
   "metadata": {},
   "outputs": [],
   "source": [
    "#/getGazetteerTypes\n",
    "req = requests.get(f'{marineRegions_url}/getGazetteerTypes.{API_EXT}/')\n",
    "print_json(req.json())"
   ]
  }
 ],
 "metadata": {
  "kernelspec": {
   "display_name": "Python 3",
   "language": "python",
   "name": "python3"
  },
  "language_info": {
   "codemirror_mode": {
    "name": "ipython",
    "version": 3
   },
   "file_extension": ".py",
   "mimetype": "text/x-python",
   "name": "python",
   "nbconvert_exporter": "python",
   "pygments_lexer": "ipython3",
   "version": "3.7.2"
  }
 },
 "nbformat": 4,
 "nbformat_minor": 2
}
