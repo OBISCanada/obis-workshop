{
 "cells": [
  {
   "cell_type": "markdown",
   "metadata": {},
   "source": [
    "# Installing the robis package\n",
    "\n",
    "To be able to install the robis R package from the source control system GitHub, first install the devtools package. This package is available from CRAN, the online R package repository.(Sources: https://obis.org/manual/accessr/, https://iobis.github.io/robis/articles/getting-started.html)"
   ]
  },
  {
   "cell_type": "code",
   "execution_count": null,
   "metadata": {},
   "outputs": [
    {
     "name": "stderr",
     "output_type": "stream",
     "text": [
      "also installing the dependencies 'utf8', 'BH', 'pillar', 'pkgconfig', 'vctrs', 'askpass', 'credentials', 'sys', 'zip', 'gitcreds', 'ini', 'lazyeval', 'later', 'fastmap', 'highr', 'markdown', 'xfun', 'diffobj', 'fansi', 'rematch2', 'tibble', 'clipr', 'curl', 'fs', 'gert', 'gh', 'glue', 'lifecycle', 'purrr', 'rappdirs', 'rprojroot', 'whisker', 'yaml', 'processx', 'R6', 'assertthat', 'rex', 'htmlwidgets', 'magrittr', 'crosstalk', 'promises', 'mime', 'openssl', 'cachem', 'prettyunits', 'xopen', 'brew', 'commonmark', 'knitr', 'stringi', 'stringr', 'xml2', 'brio', 'praise', 'ps', 'waldo', 'usethis', 'callr', 'cli', 'covr', 'desc', 'DT', 'ellipsis', 'httr', 'jsonlite', 'memoise', 'pkgbuild', 'pkgload', 'rcmdcheck', 'remotes', 'rlang', 'roxygen2', 'rstudioapi', 'rversions', 'sessioninfo', 'testthat', 'withr'\n",
      "\n"
     ]
    }
   ],
   "source": [
    "install.packages(\"devtools\")\n",
    "\n",
    "library(devtools)"
   ]
  },
  {
   "cell_type": "code",
   "execution_count": null,
   "metadata": {},
   "outputs": [],
   "source": [
    "#Once devtools is installed, the install_github() function can be used to install robis: \n",
    "\n",
    "install_github(\"iobis/robis\")\n",
    "\n",
    "library(robis)"
   ]
  },
  {
   "cell_type": "code",
   "execution_count": null,
   "metadata": {},
   "outputs": [],
   "source": [
    "#After loading the robis package, take a look at some of the documentation: \n",
    "\n",
    "help(package = \"robis\")\n",
    "?occurrence "
   ]
  },
  {
   "cell_type": "markdown",
   "metadata": {},
   "source": [
    "## Fetching occurrences\n",
    "Fetching all occurrences for a taxon "
   ]
  },
  {
   "cell_type": "code",
   "execution_count": null,
   "metadata": {},
   "outputs": [],
   "source": [
    "# To fetch all occurrences for a taxon, pass a taxon name or vector of taxon names to the occurrence() function: \n",
    "\n",
    "ptevol <- occurrence(\"Pterois volitans\")\n",
    "\n",
    "View(ptevol)"
   ]
  },
  {
   "cell_type": "code",
   "execution_count": null,
   "metadata": {},
   "outputs": [],
   "source": [
    "#Alternatively, occurrences can be fetched by AphiaID:\n",
    "\n",
    "taxid <- occurrence(taxonid = 293683)\n",
    "\n",
    "View(taxid)"
   ]
  },
  {
   "cell_type": "markdown",
   "metadata": {},
   "source": [
    "## Applying a polygon filter\n",
    "\n",
    "The occurrence() function accepts a geometry parameter, which can be used to filter occurrences geographically. This argument must be formatted as WKT (well known text representation). OBIS has a map tool which makes it easy to create WKT strings by clicking a map (https://obis.org/maptool/). "
   ]
  },
  {
   "cell_type": "code",
   "execution_count": null,
   "metadata": {},
   "outputs": [],
   "source": [
    "# Let’s see if we have any data for the Perhentian and Redang Islands: \n",
    "\n",
    "islands <- occurrence(geometry = \"POLYGON ((102.68921 6.05862, 102.57111 5.95346, 103.07785 5.49980, 103.25226 5.62555, 103.07648 5.87970, 102.68921 6.05862))\")\n",
    "\n",
    "View(islands)"
   ]
  },
  {
   "cell_type": "code",
   "execution_count": null,
   "metadata": {},
   "outputs": [],
   "source": [
    "# The map_leaflet() function allows us to create a simple interactive map: "
   ]
  },
  {
   "cell_type": "markdown",
   "metadata": {},
   "source": [
    "## Applying a depth filter\n",
    "Occurrences between certain depth levels can be selected by using the startdepth and enddepth parameters. For example, to find shallow records of the Orange roughy (a deep sea fish which is being commercially exploited), do: "
   ]
  },
  {
   "cell_type": "code",
   "execution_count": null,
   "metadata": {},
   "outputs": [],
   "source": [
    "roughy_shallow <- occurrence(\"Hoplostethus atlanticus\", enddepth = 400)\n",
    "\n",
    "map_leaflet(roughy_shallow) "
   ]
  },
  {
   "cell_type": "markdown",
   "metadata": {},
   "source": [
    "## Applying a date filter"
   ]
  },
  {
   "cell_type": "code",
   "execution_count": null,
   "metadata": {},
   "outputs": [],
   "source": [
    "# To filter occurrences by date, use the startdate and enddate arguments. Make sure to use the correct date format: \n",
    "\n",
    "lionfish_native <- occurrence(\"Pterois volitans\", enddate = \"1980-01-01\")\n",
    "\n",
    "map_leaflet(lionfish_native)"
   ]
  },
  {
   "cell_type": "code",
   "execution_count": null,
   "metadata": {},
   "outputs": [],
   "source": [
    "# Exploring occurrence data\n",
    "# A quick look at your dataset \n",
    "\n",
    "# The first thing you want to do when exploring a dataset is checking which columns you have: \n",
    "\n",
    "names(islands)\n",
    "\n",
    "# Next, use table() to create contingency tables to find out which values are present in some columns of interest: \n",
    "\n",
    "table(islands$phylum)\n",
    "table(islands$family, islands$phylum)\n",
    "\n",
    "##### Visualizing occurrences over time\n",
    "\n",
    "# It’s always interesting to know how dataset records are distributed over time. In order to be able to visualize this, we need a column with the year when occurrences were recorded. Occurrences downloaded from the mapper or obtained using robis have a yearcollected column, but if your data does not include a year column, you may need to parse the eventDate and extract the year from it. eventDates can be parsed to dates using as.Date(), and the year can be extracted with format(): \n",
    "\n",
    "\n",
    "table(islands$year)\n",
    "\n",
    "# The ggplot2 package can be used to create nice visualizations. We’ll go into ggplot2 in later chapters, for now just install the package and run the code below to produce a bar plot showing the distribution of occurrences over time: \n",
    "\n",
    "install.packages(\"ggplot2\")\n",
    "\n",
    "library(ggplot2)\n",
    "\n",
    "ggplot() + \n",
    " geom_histogram(data = islands, stat = \"count\",aes(x = year, fill = phylum), binwidth = 5) +\n",
    " scale_fill_brewer(palette = \"Paired\")\n",
    "\n",
    "##### Checklists\n",
    "\n",
    "# The checklist() function returns all taxa observed for a given set of filters. \n",
    "?checklist\n",
    "checklist(\"Semelidae\")\n",
    "\n",
    "#Just like the occurrence() function, checklist() accepts WKT geometries:\n",
    "\n",
    "checklist(geometry = \"POLYGON ((2.59689 51.16772, 2.62436 51.14059, 2.76066 51.19225, 2.73216 51.20946, 2.59689 51.16772))\")\n",
    "\n",
    "##### Measurements and facts\n",
    "\n",
    "# The package also provides access to MeasurementOrFact records associated with occurrences. When calling occurrence(), MeasurementOrFact records can be included by setting mof = true. \n",
    "\n",
    "occ <- occurrence(\"Abra tenuis\", mof = TRUE)\n",
    "\n",
    "# MeasurementOrFact records are nested in the occurrence, but the measurements() function allows you to extract them to a flat data frame. Use the fields parameter to indicate which occurrence fields need to be preserved in the measurements table. \n",
    "\n",
    "mof <- measurements(occ, fields = c(\"scientificName\", \"decimalLongitude\", \"decimalLatitude\"))\n",
    "mof\n",
    "\n",
    "# Processing occurrence data\n",
    "\n",
    "# We will use the dplyr package to further manipulate the occurrence data retrieved from OBIS. Install the package from CRAN: \n",
    "\n",
    "install.packages(\"dplyr\")\n",
    "library(dplyr)\n",
    "\n",
    "# Now fetch some trumpet worm data to work with: \n",
    "\n",
    "library(robis)\n",
    "\n",
    "lag <- occurrence(\"Lagis\")\n",
    "map_leaflet(lag)\n",
    "table(lag$species)\n",
    "\n",
    "##### Filtering\n",
    "\n",
    "# The filter() function can be used to filter occurrences based on one or more properties. For example, to only keep occurrences of Lagis australis, do: \n",
    "\n",
    "lagaus <- lag %>% filter(species == \"Lagis australis\")\n",
    "\n",
    "map_leaflet(lagaus)\n",
    "\n",
    "#Notice the pipe operator %>%. This operator allows us to link different operations together, where the results of one function are passed on to the next.\n",
    "\n",
    "Here is another example where only occurrences belonging to the BEWREMABI ship wreck datasets are selected:\n",
    "\n",
    "bew <- lag %>% filter(grepl(\"BEWREMABI\", datasetName))\n",
    "\n",
    "map_leaflet(bew)\n",
    "\n",
    "#Note that the MeasurementOrFact fields can be used as parameters to the occurrence() function. For example, to only get occurrences with associated biomass measurements:\n",
    "\n",
    "occurrence(\"Abra tenuis\", mof = TRUE, measurementtype = \"biomass\") %>%\n",
    "  measurements()\n",
    "\n",
    "##### Selecting columns\n",
    "\n",
    "#The select() function is used to select or deselect columns. To select just the decimalLongitude and decimalLatitude fields for example, do:\n",
    "\n",
    "lagaus %>% select(decimalLongitude, decimalLatitude)\n",
    "\n",
    "#From this results, distinct coordinates can be obtained using the distinct() function:\n",
    "\n",
    "lagaus %>% select(decimalLongitude, decimalLatitude) %>% distinct()\n",
    "\n",
    "#This can be simplified to:\n",
    "\n",
    "lagaus %>% distinct(decimalLongitude, decimalLatitude)\n",
    "\n",
    "#In the following example the decimalLongitude and decimalLatitude columns are selected as well, but by checking column names for “decimal”:\n",
    "\n",
    "lagaus %>% select(starts_with(\"decimal\"))\n",
    "\n",
    "#In order to remove columns, add a minus sign before the column name.\n",
    "\n",
    "##### Summarizing\n",
    "\n",
    "# To aggregate data and create summary statistics, we can use the group_by() and summarize() functions. This example groups the occurrences by species, and then counts the records per group and calculates min, max and median longitude and latitude:\n",
    "\n",
    "lag %>%\n",
    "  group_by(species) %>%\n",
    "  summarize(\n",
    "    records = n(),\n",
    "    medlon = round(median(decimalLongitude)),\n",
    "    medlat = round(median(decimalLatitude)),\n",
    "    minlon = round(min(decimalLongitude)),\n",
    "    maxlon = round(max(decimalLongitude)),\n",
    "    minlat = round(min(decimalLatitude)),\n",
    "    maxlat = round(max(decimalLatitude))\n",
    "  )\n",
    "\n",
    "##### Sorting\n",
    "\n",
    "#To sort data, use arrange(). Column names can be wrapped in desc() to sort in descending order. This first shows the earliest and then the last few records of the Lagis dataset:\n",
    "\n",
    "head(lag %>% arrange(eventDate)) %>% select(eventDate, decimalLongitude, decimalLatitude, datasetName)\n",
    "head(lag %>% arrange(desc(eventDate))) %>% select(eventDate, decimalLongitude, decimalLatitude, datasetName)\n",
    "\n",
    "##### Mutating\n",
    "\n",
    "#mutate() is used to add extra columns. So in order to add a year column based on the eventDate, do:\n",
    "\n",
    "lag_withyear <-lag %>% mutate(year = format(as.Date(eventDate), \"%Y\"))  "
   ]
  }
 ],
 "metadata": {
  "kernelspec": {
   "display_name": "R",
   "language": "R",
   "name": "ir"
  },
  "language_info": {
   "codemirror_mode": "r",
   "file_extension": ".r",
   "mimetype": "text/x-r-source",
   "name": "R",
   "pygments_lexer": "r",
   "version": "3.6.1"
  }
 },
 "nbformat": 4,
 "nbformat_minor": 4
}
